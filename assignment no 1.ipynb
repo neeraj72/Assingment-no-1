{
 "cells": [
  {
   "cell_type": "code",
   "execution_count": null,
   "metadata": {},
   "outputs": [],
   "source": []
  },
  {
   "cell_type": "code",
   "execution_count": 17,
   "metadata": {},
   "outputs": [
    {
     "name": "stdout",
     "output_type": "stream",
     "text": [
      "21\n",
      "Found directory: pht2\n"
     ]
    }
   ],
   "source": [
    "import numpy as np\n",
    "import matplotlib.pyplot as plt\n",
    "from PIL import Image\n",
    "import os\n",
    "rootDir = \"pht2\"\n",
    "fileCount = len([iq for iq in os.scandir(rootDir)])\n",
    "print(fileCount)\n",
    "#arr = np.arange(200,200,3)\n",
    "for dirName, subdirList, fileList in os.walk(rootDir):\n",
    "    print('Found directory: %s' % dirName)"
   ]
  },
  {
   "cell_type": "code",
   "execution_count": 19,
   "metadata": {},
   "outputs": [
    {
     "data": {
      "text/plain": [
       "array([[[161, 215, 191],\n",
       "        [161, 215, 191],\n",
       "        [162, 216, 192],\n",
       "        ...,\n",
       "        [187, 192, 160],\n",
       "        [187, 192, 160],\n",
       "        [186, 191, 159]],\n",
       "\n",
       "       [[161, 215, 191],\n",
       "        [161, 215, 191],\n",
       "        [162, 216, 192],\n",
       "        ...,\n",
       "        [187, 192, 160],\n",
       "        [186, 191, 159],\n",
       "        [186, 191, 159]],\n",
       "\n",
       "       [[161, 215, 191],\n",
       "        [161, 215, 191],\n",
       "        [162, 216, 192],\n",
       "        ...,\n",
       "        [187, 192, 160],\n",
       "        [186, 192, 158],\n",
       "        [186, 192, 158]],\n",
       "\n",
       "       ...,\n",
       "\n",
       "       [[204, 201, 148],\n",
       "        [193, 192, 136],\n",
       "        [189, 190, 133],\n",
       "        ...,\n",
       "        [159, 198, 141],\n",
       "        [165, 204, 147],\n",
       "        [170, 208, 151]],\n",
       "\n",
       "       [[207, 204, 151],\n",
       "        [195, 194, 138],\n",
       "        [189, 190, 133],\n",
       "        ...,\n",
       "        [163, 202, 145],\n",
       "        [168, 205, 151],\n",
       "        [171, 208, 154]],\n",
       "\n",
       "       [[210, 207, 152],\n",
       "        [197, 196, 140],\n",
       "        [190, 191, 134],\n",
       "        ...,\n",
       "        [165, 204, 149],\n",
       "        [169, 206, 152],\n",
       "        [172, 209, 155]]], dtype=uint8)"
      ]
     },
     "execution_count": 19,
     "metadata": {},
     "output_type": "execute_result"
    }
   ],
   "source": [
    "#def resize_images():\n",
    "lis = []\n",
    "for fname in fileList:\n",
    "    im= Image.open(dirName+\"\\\\\"+fname)\n",
    "    #im.show()\n",
    "    im.resize((200,200))\n",
    "    im1 = np.array(im)\n",
    "    lis.append(im1)\n",
    "arr = np.array(im)\n",
    "arr\n",
    "#print(lis)\n"
   ]
  },
  {
   "cell_type": "code",
   "execution_count": 11,
   "metadata": {},
   "outputs": [
    {
     "data": {
      "text/plain": [
       "(381, 678, 3)"
      ]
     },
     "execution_count": 11,
     "metadata": {},
     "output_type": "execute_result"
    }
   ],
   "source": [
    "lis[0].shape"
   ]
  },
  {
   "cell_type": "code",
   "execution_count": 28,
   "metadata": {},
   "outputs": [],
   "source": [
    "arr1 = np.resize(lis[0],(512,512,3))"
   ]
  },
  {
   "cell_type": "code",
   "execution_count": 31,
   "metadata": {},
   "outputs": [
    {
     "data": {
      "text/plain": [
       "(512, 512, 3)"
      ]
     },
     "execution_count": 31,
     "metadata": {},
     "output_type": "execute_result"
    }
   ],
   "source": [
    "arr1.shape"
   ]
  },
  {
   "cell_type": "code",
   "execution_count": 35,
   "metadata": {},
   "outputs": [
    {
     "name": "stdout",
     "output_type": "stream",
     "text": [
      "0    4\n",
      "1    7\n",
      "2   -5\n",
      "3    3\n",
      "dtype: int64\n"
     ]
    }
   ],
   "source": [
    "#must need to import panadas\n",
    "import pandas as pd\n",
    "obj = pd.Series([4,7,-5,3])\n",
    "print(obj)"
   ]
  },
  {
   "cell_type": "code",
   "execution_count": 39,
   "metadata": {},
   "outputs": [
    {
     "name": "stdout",
     "output_type": "stream",
     "text": [
      "Jan    100\n",
      "Feb    200\n",
      "Mar    100\n",
      "Apr    400\n",
      "Name: 4 Months, dtype: int64\n",
      "[100 200 100 400]\n"
     ]
    }
   ],
   "source": [
    "sales = pd.Series([100, 200, 100, 400],\n",
    "                  index = ['Jan', 'Feb', 'Mar', 'Apr'], name = '4 Months')\n",
    "print(sales)\n",
    "print(sales.values)"
   ]
  },
  {
   "cell_type": "code",
   "execution_count": 47,
   "metadata": {},
   "outputs": [
    {
     "name": "stdout",
     "output_type": "stream",
     "text": [
      "Mon     20\n",
      "tue     30\n",
      "wed     20\n",
      "thur    25\n",
      "Fri     30\n",
      "sat     40\n",
      "sun      0\n",
      "dtype: int64\n"
     ]
    }
   ],
   "source": [
    "sw1 = pd.Series([20,30,20,25,30,40,0], \n",
    "              index = ['Mon', 'tue', 'wed', 'thur', 'Fri', 'sat', 'sun'])\n",
    "print(sw)"
   ]
  },
  {
   "cell_type": "code",
   "execution_count": 42,
   "metadata": {},
   "outputs": [
    {
     "name": "stdout",
     "output_type": "stream",
     "text": [
      "January\n",
      "[1, 2, 3, 4, 5, 6, 7]\n",
      "1    20\n",
      "2    30\n",
      "3    20\n",
      "4    25\n",
      "5    30\n",
      "6    40\n",
      "7     0\n",
      "dtype: int64\n"
     ]
    }
   ],
   "source": [
    "import pandas as pd\n",
    "import calendar as cal\n",
    "print(cal.month_name[1])\n",
    "d = list(range(1,8))\n",
    "print(d)\n",
    "sw = pd.Series([20,30,20,25,30,40,0], \n",
    "              index = list(range(1,8)))\n",
    "print(sw)"
   ]
  },
  {
   "cell_type": "code",
   "execution_count": 53,
   "metadata": {},
   "outputs": [
    {
     "data": {
      "text/plain": [
       "Mon     40\n",
       "tue     60\n",
       "wed     40\n",
       "thur    50\n",
       "Fri     60\n",
       "sat     80\n",
       "sun      0\n",
       "dtype: int64"
      ]
     },
     "execution_count": 53,
     "metadata": {},
     "output_type": "execute_result"
    }
   ],
   "source": [
    "sw * 2"
   ]
  },
  {
   "cell_type": "code",
   "execution_count": 48,
   "metadata": {},
   "outputs": [
    {
     "name": "stdout",
     "output_type": "stream",
     "text": [
      "thur    25\n",
      "sat     40\n",
      "dtype: int64\n",
      "Mon    20\n",
      "tue    30\n",
      "dtype: int64\n"
     ]
    }
   ],
   "source": [
    "print(sw[[3,5]])\n",
    "print(sw1[['Mon', 'tue']])"
   ]
  },
  {
   "cell_type": "code",
   "execution_count": 52,
   "metadata": {},
   "outputs": [
    {
     "name": "stdout",
     "output_type": "stream",
     "text": [
      "Punjab         4500.0\n",
      "Sindh          3500.0\n",
      "KPK            3000.0\n",
      "Balochistan    2000.0\n",
      "GB                NaN\n",
      "dtype: float64\n",
      "Punjab         False\n",
      "Sindh          False\n",
      "KPK            False\n",
      "Balochistan    False\n",
      "GB              True\n",
      "dtype: bool\n"
     ]
    }
   ],
   "source": [
    "sdata = {'Sindh': 3500, 'Punjab':4500, 'KPK': 3000, 'Balochistan':2000}\n",
    "tax_by = pd.Series(sdata, \n",
    "                   index = [\"Punjab\", \"Sindh\", \"KPK\", \"Balochistan\", \"GB\"])\n",
    "print(tax_by)\n",
    "print(pd.isnull(tax_by))"
   ]
  },
  {
   "cell_type": "code",
   "execution_count": 55,
   "metadata": {},
   "outputs": [],
   "source": [
    "#The new method of project managment ajile (SCARM, REGULATION)"
   ]
  },
  {
   "cell_type": "code",
   "execution_count": 56,
   "metadata": {},
   "outputs": [
    {
     "name": "stdout",
     "output_type": "stream",
     "text": [
      "Jan    100\n",
      "Feb    200\n",
      "Mar    100\n",
      "Apr    400\n",
      "Name: 4 Months, dtype: int64\n",
      "[100 200 100 400]\n"
     ]
    }
   ],
   "source": [
    "sales = pd.Series([100, 200, 100, 400],\n",
    "                  index = ['Jan', 'Feb', 'Mar', 'Apr'], name = '4 Months')\n",
    "print(sales)\n",
    "print(sales.values)"
   ]
  },
  {
   "cell_type": "code",
   "execution_count": null,
   "metadata": {},
   "outputs": [],
   "source": []
  }
 ],
 "metadata": {
  "kernelspec": {
   "display_name": "Python 3",
   "language": "python",
   "name": "python3"
  },
  "language_info": {
   "codemirror_mode": {
    "name": "ipython",
    "version": 3
   },
   "file_extension": ".py",
   "mimetype": "text/x-python",
   "name": "python",
   "nbconvert_exporter": "python",
   "pygments_lexer": "ipython3",
   "version": "3.7.3"
  }
 },
 "nbformat": 4,
 "nbformat_minor": 2
}
