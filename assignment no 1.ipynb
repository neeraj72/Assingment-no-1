{
 "cells": [
  {
   "cell_type": "code",
   "execution_count": null,
   "metadata": {},
   "outputs": [],
   "source": []
  },
  {
   "cell_type": "code",
   "execution_count": 4,
   "metadata": {},
   "outputs": [
    {
     "name": "stdout",
     "output_type": "stream",
     "text": [
      "Found directory: pht2\n"
     ]
    }
   ],
   "source": [
    "import numpy as np\n",
    "import matplotlib.pyplot as plt\n",
    "from PIL import Image\n",
    "import os\n",
    "rootDir = \"pht2\"\n",
    "for dirName, subdirList, fileList in os.walk(rootDir):\n",
    "    print('Found directory: %s' % dirName)"
   ]
  },
  {
   "cell_type": "code",
   "execution_count": 5,
   "metadata": {},
   "outputs": [
    {
     "data": {
      "text/plain": [
       "array([[[161, 215, 191],\n",
       "        [161, 215, 191],\n",
       "        [162, 216, 192],\n",
       "        ...,\n",
       "        [187, 192, 160],\n",
       "        [187, 192, 160],\n",
       "        [186, 191, 159]],\n",
       "\n",
       "       [[161, 215, 191],\n",
       "        [161, 215, 191],\n",
       "        [162, 216, 192],\n",
       "        ...,\n",
       "        [187, 192, 160],\n",
       "        [186, 191, 159],\n",
       "        [186, 191, 159]],\n",
       "\n",
       "       [[161, 215, 191],\n",
       "        [161, 215, 191],\n",
       "        [162, 216, 192],\n",
       "        ...,\n",
       "        [187, 192, 160],\n",
       "        [186, 192, 158],\n",
       "        [186, 192, 158]],\n",
       "\n",
       "       ...,\n",
       "\n",
       "       [[204, 201, 148],\n",
       "        [193, 192, 136],\n",
       "        [189, 190, 133],\n",
       "        ...,\n",
       "        [159, 198, 141],\n",
       "        [165, 204, 147],\n",
       "        [170, 208, 151]],\n",
       "\n",
       "       [[207, 204, 151],\n",
       "        [195, 194, 138],\n",
       "        [189, 190, 133],\n",
       "        ...,\n",
       "        [163, 202, 145],\n",
       "        [168, 205, 151],\n",
       "        [171, 208, 154]],\n",
       "\n",
       "       [[210, 207, 152],\n",
       "        [197, 196, 140],\n",
       "        [190, 191, 134],\n",
       "        ...,\n",
       "        [165, 204, 149],\n",
       "        [169, 206, 152],\n",
       "        [172, 209, 155]]], dtype=uint8)"
      ]
     },
     "execution_count": 5,
     "metadata": {},
     "output_type": "execute_result"
    }
   ],
   "source": [
    "for fname in fileList:\n",
    "    im= Image.open(dirName+\"\\\\\"+fname)\n",
    "    im.show()\n",
    "    im.resize((200,200))\n",
    "arr = np.array(im)\n",
    "arr"
   ]
  },
  {
   "cell_type": "code",
   "execution_count": null,
   "metadata": {},
   "outputs": [],
   "source": []
  },
  {
   "cell_type": "code",
   "execution_count": null,
   "metadata": {},
   "outputs": [],
   "source": []
  }
 ],
 "metadata": {
  "kernelspec": {
   "display_name": "Python 3",
   "language": "python",
   "name": "python3"
  },
  "language_info": {
   "codemirror_mode": {
    "name": "ipython",
    "version": 3
   },
   "file_extension": ".py",
   "mimetype": "text/x-python",
   "name": "python",
   "nbconvert_exporter": "python",
   "pygments_lexer": "ipython3",
   "version": "3.7.3"
  }
 },
 "nbformat": 4,
 "nbformat_minor": 2
}
