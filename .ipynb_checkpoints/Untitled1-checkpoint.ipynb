{
 "cells": [
  {
   "cell_type": "code",
   "execution_count": 13,
   "metadata": {},
   "outputs": [],
   "source": [
    "# Piaic Assignment no: 02 \n",
    "#Images to numpy array \n",
    "#Name Neeraj Kumar\n",
    "#Roll No: \n",
    "def main():\n",
    "    import numpy as np \n",
    "    from PIL import Image\n",
    "    import matplotlib.pyplot as plt\n",
    "    import os\n",
    "    rootDir = \"pht2\"\n",
    "    files_list = [iq for iq in os.scandir(rootDir)]\n",
    "    file_picture = [iq for iq in files_list if iq == \"jpg\" ]\n",
    "    filecount = len([iq for iq in (file_picture)])\n",
    "    arr = np.zeros((filecount, 200, 200,3))\n",
    "    counter = 0\n",
    "    for i in file_picture:\n",
    "        p = Image.Open(i).resize((200,200))\n",
    "        arr[counter] = np.array(p)\n",
    "        counter += 1\n",
    "        return arr\n",
    "if __name__ == \"__main__\":\n",
    "    main()"
   ]
  },
  {
   "cell_type": "code",
   "execution_count": 14,
   "metadata": {},
   "outputs": [],
   "source": [
    "main()"
   ]
  },
  {
   "cell_type": "code",
   "execution_count": null,
   "metadata": {},
   "outputs": [],
   "source": []
  }
 ],
 "metadata": {
  "kernelspec": {
   "display_name": "Python 3",
   "language": "python",
   "name": "python3"
  },
  "language_info": {
   "codemirror_mode": {
    "name": "ipython",
    "version": 3
   },
   "file_extension": ".py",
   "mimetype": "text/x-python",
   "name": "python",
   "nbconvert_exporter": "python",
   "pygments_lexer": "ipython3",
   "version": "3.7.3"
  }
 },
 "nbformat": 4,
 "nbformat_minor": 2
}
